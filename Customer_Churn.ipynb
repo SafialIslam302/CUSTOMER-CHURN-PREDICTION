{
 "cells": [
  {
   "cell_type": "markdown",
   "metadata": {},
   "source": [
    "# INSAID Hiring Exercise"
   ]
  },
  {
   "cell_type": "markdown",
   "metadata": {},
   "source": [
    "## Important: Kindly go through the instructions mentioned below.\n",
    "\n",
    "- The Sheet is structured in **4 steps**:\n",
    "    1. Understanding data and manipulation\n",
    "    2. Data visualization\n",
    "    3. Implementing Machine Learning models(Note: It should be more than 1 algorithm)\n",
    "    4. Model Evaluation and concluding with the best of the model.\n",
    "    \n",
    "    \n",
    "    \n",
    "\n",
    "- Try to break the codes in the **simplest form** and use number of code block with **proper comments** to them\n",
    "- We are providing **h** different dataset to choose from(Note: You need to select any one of the dataset from this sample sheet only)\n",
    "- The **interview calls** will be made solely based on how good you apply the **concepts**.\n",
    "- Good Luck! Happy Coding!"
   ]
  },
  {
   "cell_type": "markdown",
   "metadata": {},
   "source": [
    "## Importing the data"
   ]
  },
  {
   "cell_type": "code",
   "execution_count": 1,
   "metadata": {
    "scrolled": true
   },
   "outputs": [
    {
     "data": {
      "text/plain": [
       "'C:\\\\Users\\\\Lenovo\\\\Downloads'"
      ]
     },
     "execution_count": 1,
     "metadata": {},
     "output_type": "execute_result"
    }
   ],
   "source": [
    "# use these links to do so:\n",
    "import numpy as np\n",
    "import pandas as pd\n",
    "from sklearn import preprocessing\n",
    "from sklearn.metrics import mean_squared_error as mse\n",
    "from sklearn.model_selection import train_test_split\n",
    "from sklearn.preprocessing import StandardScaler\n",
    "from sklearn.linear_model import LogisticRegression\n",
    "from sklearn.metrics import mean_squared_error\n",
    "from sklearn.naive_bayes import GaussianNB\n",
    "from sklearn.neighbors import KNeighborsClassifier\n",
    "from sklearn.svm import LinearSVC\n",
    "from sklearn.decomposition import PCA\n",
    "from sklearn import metrics\n",
    "from sklearn.cluster import KMeans\n",
    "from sklearn.cluster import AgglomerativeClustering\n",
    "from sklearn.naive_bayes import GaussianNB\n",
    "from sklearn.neighbors import KNeighborsClassifier\n",
    "from sklearn.neural_network import MLPClassifier\n",
    "from sklearn.metrics import f1_score\n",
    "from sklearn.model_selection import cross_val_score, cross_val_predict\n",
    "from sklearn import tree\n",
    "from sklearn.ensemble import RandomForestClassifier\n",
    "from sklearn.svm import SVC\n",
    "from sklearn.metrics import accuracy_score\n",
    "import seaborn as sns\n",
    "from sklearn import metrics\n",
    "from sklearn.feature_selection import SelectKBest\n",
    "from sklearn.feature_selection import chi2\n",
    "import matplotlib.pyplot as plt\n",
    "import os\n",
    "os.getcwd()"
   ]
  },
  {
   "cell_type": "code",
   "execution_count": 2,
   "metadata": {},
   "outputs": [
    {
     "name": "stdout",
     "output_type": "stream",
     "text": [
      "<class 'pandas.core.frame.DataFrame'>\n",
      "RangeIndex: 7043 entries, 0 to 7042\n",
      "Data columns (total 21 columns):\n",
      " #   Column            Non-Null Count  Dtype  \n",
      "---  ------            --------------  -----  \n",
      " 0   customerID        7043 non-null   object \n",
      " 1   gender            7043 non-null   object \n",
      " 2   SeniorCitizen     7043 non-null   int64  \n",
      " 3   Partner           7043 non-null   object \n",
      " 4   Dependents        7043 non-null   object \n",
      " 5   tenure            7043 non-null   int64  \n",
      " 6   PhoneService      7043 non-null   object \n",
      " 7   MultipleLines     7043 non-null   object \n",
      " 8   InternetService   7043 non-null   object \n",
      " 9   OnlineSecurity    7043 non-null   object \n",
      " 10  OnlineBackup      7043 non-null   object \n",
      " 11  DeviceProtection  7043 non-null   object \n",
      " 12  TechSupport       7043 non-null   object \n",
      " 13  StreamingTV       7043 non-null   object \n",
      " 14  StreamingMovies   7043 non-null   object \n",
      " 15  Contract          7043 non-null   object \n",
      " 16  PaperlessBilling  7043 non-null   object \n",
      " 17  PaymentMethod     7043 non-null   object \n",
      " 18  MonthlyCharges    7043 non-null   float64\n",
      " 19  TotalCharges      7043 non-null   object \n",
      " 20  Churn             7043 non-null   object \n",
      "dtypes: float64(1), int64(2), object(18)\n",
      "memory usage: 1.1+ MB\n"
     ]
    }
   ],
   "source": [
    "data=pd.read_csv(\"Churn.csv\")\n",
    "data.info()"
   ]
  },
  {
   "cell_type": "markdown",
   "metadata": {},
   "source": [
    "## Removing Irrelevant data"
   ]
  },
  {
   "cell_type": "code",
   "execution_count": 3,
   "metadata": {},
   "outputs": [],
   "source": [
    "# To drop the Customer ID as that doesn't affect the final prediction.\n",
    "data=data.drop('customerID',axis=1)"
   ]
  },
  {
   "cell_type": "markdown",
   "metadata": {},
   "source": [
    "## Understanding the data"
   ]
  },
  {
   "cell_type": "code",
   "execution_count": 4,
   "metadata": {
    "scrolled": true
   },
   "outputs": [
    {
     "data": {
      "text/html": [
       "<div>\n",
       "<style scoped>\n",
       "    .dataframe tbody tr th:only-of-type {\n",
       "        vertical-align: middle;\n",
       "    }\n",
       "\n",
       "    .dataframe tbody tr th {\n",
       "        vertical-align: top;\n",
       "    }\n",
       "\n",
       "    .dataframe thead th {\n",
       "        text-align: right;\n",
       "    }\n",
       "</style>\n",
       "<table border=\"1\" class=\"dataframe\">\n",
       "  <thead>\n",
       "    <tr style=\"text-align: right;\">\n",
       "      <th></th>\n",
       "      <th>gender</th>\n",
       "      <th>SeniorCitizen</th>\n",
       "      <th>Partner</th>\n",
       "      <th>Dependents</th>\n",
       "      <th>tenure</th>\n",
       "      <th>PhoneService</th>\n",
       "      <th>MultipleLines</th>\n",
       "      <th>InternetService</th>\n",
       "      <th>OnlineSecurity</th>\n",
       "      <th>OnlineBackup</th>\n",
       "      <th>DeviceProtection</th>\n",
       "      <th>TechSupport</th>\n",
       "      <th>StreamingTV</th>\n",
       "      <th>StreamingMovies</th>\n",
       "      <th>Contract</th>\n",
       "      <th>PaperlessBilling</th>\n",
       "      <th>PaymentMethod</th>\n",
       "      <th>MonthlyCharges</th>\n",
       "      <th>TotalCharges</th>\n",
       "      <th>Churn</th>\n",
       "    </tr>\n",
       "  </thead>\n",
       "  <tbody>\n",
       "    <tr>\n",
       "      <th>0</th>\n",
       "      <td>Female</td>\n",
       "      <td>0</td>\n",
       "      <td>Yes</td>\n",
       "      <td>No</td>\n",
       "      <td>1</td>\n",
       "      <td>No</td>\n",
       "      <td>No phone service</td>\n",
       "      <td>DSL</td>\n",
       "      <td>No</td>\n",
       "      <td>Yes</td>\n",
       "      <td>No</td>\n",
       "      <td>No</td>\n",
       "      <td>No</td>\n",
       "      <td>No</td>\n",
       "      <td>Month-to-month</td>\n",
       "      <td>Yes</td>\n",
       "      <td>Electronic check</td>\n",
       "      <td>29.85</td>\n",
       "      <td>29.85</td>\n",
       "      <td>No</td>\n",
       "    </tr>\n",
       "    <tr>\n",
       "      <th>1</th>\n",
       "      <td>Male</td>\n",
       "      <td>0</td>\n",
       "      <td>No</td>\n",
       "      <td>No</td>\n",
       "      <td>34</td>\n",
       "      <td>Yes</td>\n",
       "      <td>No</td>\n",
       "      <td>DSL</td>\n",
       "      <td>Yes</td>\n",
       "      <td>No</td>\n",
       "      <td>Yes</td>\n",
       "      <td>No</td>\n",
       "      <td>No</td>\n",
       "      <td>No</td>\n",
       "      <td>One year</td>\n",
       "      <td>No</td>\n",
       "      <td>Mailed check</td>\n",
       "      <td>56.95</td>\n",
       "      <td>1889.5</td>\n",
       "      <td>No</td>\n",
       "    </tr>\n",
       "    <tr>\n",
       "      <th>2</th>\n",
       "      <td>Male</td>\n",
       "      <td>0</td>\n",
       "      <td>No</td>\n",
       "      <td>No</td>\n",
       "      <td>2</td>\n",
       "      <td>Yes</td>\n",
       "      <td>No</td>\n",
       "      <td>DSL</td>\n",
       "      <td>Yes</td>\n",
       "      <td>Yes</td>\n",
       "      <td>No</td>\n",
       "      <td>No</td>\n",
       "      <td>No</td>\n",
       "      <td>No</td>\n",
       "      <td>Month-to-month</td>\n",
       "      <td>Yes</td>\n",
       "      <td>Mailed check</td>\n",
       "      <td>53.85</td>\n",
       "      <td>108.15</td>\n",
       "      <td>Yes</td>\n",
       "    </tr>\n",
       "    <tr>\n",
       "      <th>3</th>\n",
       "      <td>Male</td>\n",
       "      <td>0</td>\n",
       "      <td>No</td>\n",
       "      <td>No</td>\n",
       "      <td>45</td>\n",
       "      <td>No</td>\n",
       "      <td>No phone service</td>\n",
       "      <td>DSL</td>\n",
       "      <td>Yes</td>\n",
       "      <td>No</td>\n",
       "      <td>Yes</td>\n",
       "      <td>Yes</td>\n",
       "      <td>No</td>\n",
       "      <td>No</td>\n",
       "      <td>One year</td>\n",
       "      <td>No</td>\n",
       "      <td>Bank transfer (automatic)</td>\n",
       "      <td>42.30</td>\n",
       "      <td>1840.75</td>\n",
       "      <td>No</td>\n",
       "    </tr>\n",
       "    <tr>\n",
       "      <th>4</th>\n",
       "      <td>Female</td>\n",
       "      <td>0</td>\n",
       "      <td>No</td>\n",
       "      <td>No</td>\n",
       "      <td>2</td>\n",
       "      <td>Yes</td>\n",
       "      <td>No</td>\n",
       "      <td>Fiber optic</td>\n",
       "      <td>No</td>\n",
       "      <td>No</td>\n",
       "      <td>No</td>\n",
       "      <td>No</td>\n",
       "      <td>No</td>\n",
       "      <td>No</td>\n",
       "      <td>Month-to-month</td>\n",
       "      <td>Yes</td>\n",
       "      <td>Electronic check</td>\n",
       "      <td>70.70</td>\n",
       "      <td>151.65</td>\n",
       "      <td>Yes</td>\n",
       "    </tr>\n",
       "  </tbody>\n",
       "</table>\n",
       "</div>"
      ],
      "text/plain": [
       "   gender  SeniorCitizen Partner Dependents  tenure PhoneService  \\\n",
       "0  Female              0     Yes         No       1           No   \n",
       "1    Male              0      No         No      34          Yes   \n",
       "2    Male              0      No         No       2          Yes   \n",
       "3    Male              0      No         No      45           No   \n",
       "4  Female              0      No         No       2          Yes   \n",
       "\n",
       "      MultipleLines InternetService OnlineSecurity OnlineBackup  \\\n",
       "0  No phone service             DSL             No          Yes   \n",
       "1                No             DSL            Yes           No   \n",
       "2                No             DSL            Yes          Yes   \n",
       "3  No phone service             DSL            Yes           No   \n",
       "4                No     Fiber optic             No           No   \n",
       "\n",
       "  DeviceProtection TechSupport StreamingTV StreamingMovies        Contract  \\\n",
       "0               No          No          No              No  Month-to-month   \n",
       "1              Yes          No          No              No        One year   \n",
       "2               No          No          No              No  Month-to-month   \n",
       "3              Yes         Yes          No              No        One year   \n",
       "4               No          No          No              No  Month-to-month   \n",
       "\n",
       "  PaperlessBilling              PaymentMethod  MonthlyCharges TotalCharges  \\\n",
       "0              Yes           Electronic check           29.85        29.85   \n",
       "1               No               Mailed check           56.95       1889.5   \n",
       "2              Yes               Mailed check           53.85       108.15   \n",
       "3               No  Bank transfer (automatic)           42.30      1840.75   \n",
       "4              Yes           Electronic check           70.70       151.65   \n",
       "\n",
       "  Churn  \n",
       "0    No  \n",
       "1    No  \n",
       "2   Yes  \n",
       "3    No  \n",
       "4   Yes  "
      ]
     },
     "execution_count": 4,
     "metadata": {},
     "output_type": "execute_result"
    }
   ],
   "source": [
    "data.head()"
   ]
  },
  {
   "cell_type": "code",
   "execution_count": 5,
   "metadata": {},
   "outputs": [
    {
     "name": "stderr",
     "output_type": "stream",
     "text": [
      "D:\\Anaconda\\lib\\site-packages\\pandas\\core\\ops\\array_ops.py:253: FutureWarning: elementwise comparison failed; returning scalar instead, but in the future will perform elementwise comparison\n",
      "  res_values = method(rvalues)\n"
     ]
    }
   ],
   "source": [
    "# To check if a given cell value is nan.\n",
    "data[data.iloc[:,:]==' '] = np.NaN"
   ]
  },
  {
   "cell_type": "code",
   "execution_count": 6,
   "metadata": {},
   "outputs": [
    {
     "data": {
      "text/plain": [
       "gender               0\n",
       "SeniorCitizen        0\n",
       "Partner              0\n",
       "Dependents           0\n",
       "tenure               0\n",
       "PhoneService         0\n",
       "MultipleLines        0\n",
       "InternetService      0\n",
       "OnlineSecurity       0\n",
       "OnlineBackup         0\n",
       "DeviceProtection     0\n",
       "TechSupport          0\n",
       "StreamingTV          0\n",
       "StreamingMovies      0\n",
       "Contract             0\n",
       "PaperlessBilling     0\n",
       "PaymentMethod        0\n",
       "MonthlyCharges       0\n",
       "TotalCharges        11\n",
       "Churn                0\n",
       "dtype: int64"
      ]
     },
     "execution_count": 6,
     "metadata": {},
     "output_type": "execute_result"
    }
   ],
   "source": [
    "# Change the Total Charges to float type from object type.\n",
    "data['TotalCharges'] = data['TotalCharges'].astype(float)\n",
    "\n",
    "# Return the number of missing values in each columns.\n",
    "data.isnull().sum()"
   ]
  },
  {
   "cell_type": "code",
   "execution_count": 7,
   "metadata": {
    "scrolled": false
   },
   "outputs": [
    {
     "data": {
      "text/plain": [
       "gender              0\n",
       "SeniorCitizen       0\n",
       "Partner             0\n",
       "Dependents          0\n",
       "tenure              0\n",
       "PhoneService        0\n",
       "MultipleLines       0\n",
       "InternetService     0\n",
       "OnlineSecurity      0\n",
       "OnlineBackup        0\n",
       "DeviceProtection    0\n",
       "TechSupport         0\n",
       "StreamingTV         0\n",
       "StreamingMovies     0\n",
       "Contract            0\n",
       "PaperlessBilling    0\n",
       "PaymentMethod       0\n",
       "MonthlyCharges      0\n",
       "TotalCharges        0\n",
       "Churn               0\n",
       "dtype: int64"
      ]
     },
     "execution_count": 7,
     "metadata": {},
     "output_type": "execute_result"
    }
   ],
   "source": [
    "# Fill the missing value with the mean of that column.\n",
    "data=data.fillna(data.mean())\n",
    "\n",
    "data.isnull().sum()"
   ]
  },
  {
   "cell_type": "markdown",
   "metadata": {},
   "source": [
    "## Data Visualization"
   ]
  },
  {
   "cell_type": "markdown",
   "metadata": {},
   "source": [
    "### Customer Gender Distribution"
   ]
  },
  {
   "cell_type": "code",
   "execution_count": 8,
   "metadata": {},
   "outputs": [
    {
     "data": {
      "image/png": "[encoded data removed]",
      "text/plain": [
       "<Figure size 360x360 with 1 Axes>"
      ]
     },
     "metadata": {},
     "output_type": "display_data"
    }
   ],
   "source": [
    "# Changes the figure size and colour.\n",
    "a4_dims = (11.7, 8.27)\n",
    "ax = plt.subplots(figsize=a4_dims)\n",
    "colors = ['#94aa2a','#F7DC6F']\n",
    "\n",
    "# Plot the distribution of Gender of Customer.\n",
    "ax = (data['gender'].value_counts()*100.0 /len(data)).plot.pie(autopct='%.1f%%', labels = ['Male', 'Female'],figsize =(5,5), fontsize = 12,colors = colors )"
   ]
  },
  {
   "cell_type": "markdown",
   "metadata": {},
   "source": [
    "### Distribution of services and customers are availing"
   ]
  },
  {
   "cell_type": "code",
   "execution_count": 9,
   "metadata": {},
   "outputs": [
    {
     "data": {
      "image/png": "[encoded data removed]",
      "text/plain": [
       "<Figure size 1080x864 with 9 Axes>"
      ]
     },
     "metadata": {
      "needs_background": "light"
     },
     "output_type": "display_data"
    }
   ],
   "source": [
    "# Select the features(services) and colour whose distribution is plotted.\n",
    "features = ['PhoneService','MultipleLines','InternetService','OnlineSecurity',\n",
    "           'OnlineBackup','DeviceProtection','TechSupport','StreamingTV','StreamingMovies']\n",
    "colors1 =['#f45905','#c70d3a','#512c62']\n",
    "colors2 =['#94aa2a','#e47312','#d55252']\n",
    "colors3= ['#A04000','#D68910','#F7DC6F']\n",
    "\n",
    "# Plot the distribution of given features of Customer by 3X3.\n",
    "fig, axes = plt.subplots(nrows = 3,ncols = 3,figsize = (15,12))\n",
    "for i, item in enumerate(features):\n",
    "    if i < 3:\n",
    "        ax = data[item].value_counts().plot(kind = 'bar',ax=axes[i,0],rot = 0, color=colors1)\n",
    "        \n",
    "    elif i >=3 and i < 6:\n",
    "        ax = data[item].value_counts().plot(kind = 'bar',ax=axes[i-3,1],rot = 0,color = colors2)\n",
    "        \n",
    "    elif i < 9:\n",
    "        ax = data[item].value_counts().plot(kind = 'bar',ax=axes[i-6,2],rot = 0,color=colors3)\n",
    "    ax.set_title(item)"
   ]
  },
  {
   "cell_type": "markdown",
   "metadata": {},
   "source": [
    "### Distrimution of churn rate"
   ]
  },
  {
   "cell_type": "code",
   "execution_count": 10,
   "metadata": {},
   "outputs": [
    {
     "data": {
      "image/png": "[encoded data removed]",
      "text/plain": [
       "<Figure size 360x360 with 1 Axes>"
      ]
     },
     "metadata": {},
     "output_type": "display_data"
    }
   ],
   "source": [
    "# Changes the figure size and colour.\n",
    "a4_dims = (11.7, 8.27)\n",
    "ax = plt.subplots(figsize=a4_dims)\n",
    "colors = ['#512c62','#f45905']\n",
    "\n",
    "# Plot the distribution of the churn rate.\n",
    "ax = (data['Churn'].value_counts()*100.0 /len(data)).plot.pie(autopct='%.1f%%', labels = ['NO', 'Yes'],figsize =(5,5), fontsize = 12,colors = colors )"
   ]
  },
  {
   "cell_type": "markdown",
   "metadata": {},
   "source": [
    "### Churn vs Monthly Charges distribution"
   ]
  },
  {
   "cell_type": "code",
   "execution_count": 11,
   "metadata": {
    "scrolled": false
   },
   "outputs": [
    {
     "data": {
      "text/plain": [
       "Text(0.5, 1.0, 'churn vs monthly charges distribution')"
      ]
     },
     "execution_count": 11,
     "metadata": {},
     "output_type": "execute_result"
    },
    {
     "data": {
      "image/png": "[encoded data removed]",
      "text/plain": [
       "<Figure size 720x576 with 1 Axes>"
      ]
     },
     "metadata": {
      "needs_background": "light"
     },
     "output_type": "display_data"
    }
   ],
   "source": [
    "# Set the dimensions and plotsize.\n",
    "dims = (10, 8)\n",
    "ax = plt.subplots(figsize=dims)\n",
    "\n",
    "# Use Seaborn kernel density estimate to plot the chart.\n",
    "ax = sns.kdeplot(data.MonthlyCharges[(data[\"Churn\"] == 'No') ],\n",
    "                color=\"red\", shade = True)\n",
    "ax = sns.kdeplot(data.MonthlyCharges[(data[\"Churn\"] == 'Yes') ],\n",
    "                ax =ax, color=\"skyblue\", shade= True)\n",
    "\n",
    "# Set all the legends, Title and label name.\n",
    "ax.legend([\"Not Churn\",\"Churn\"],loc='upper right')\n",
    "ax.set_ylabel('Density')\n",
    "ax.set_xlabel('Monthly Charges')\n",
    "ax.set_title('churn vs monthly charges distribution')"
   ]
  },
  {
   "cell_type": "markdown",
   "metadata": {},
   "source": [
    "### Conclusion: What all did you understand from the above charts"
   ]
  },
  {
   "cell_type": "markdown",
   "metadata": {},
   "source": [
    "- From the Customer Gender Distribution, we find that the churn rate is independent of gender of the customer.\n",
    "\n",
    "- In total, there are 9 services and each of them are plotted with respect to customer that are availing such services. Here this chart help in understanding the distribution of each individual services.\n",
    "\n",
    "- The third chart helps in understanding the distribution of the churning of the customer. This helps in understanding if the number of customer returning higher or lower, so helping in finding out if majority of customer are retained or leaving. Here as most of the customer are staying so any false retaining is better than false leaving.\n",
    "\n",
    "- In churn vs Monthly charge, we can see that the majority of retained customer have low monthly charge whereas the majority of leaving customer have high monthly charge. Also the retained customer also further increase with charge, thus using Churn rate vs MOnthly charge is better as it gives better chance of prediction accuracy."
   ]
  },
  {
   "cell_type": "markdown",
   "metadata": {},
   "source": [
    "## Data Manipulation"
   ]
  },
  {
   "cell_type": "code",
   "execution_count": 12,
   "metadata": {
    "scrolled": true
   },
   "outputs": [
    {
     "data": {
      "text/plain": [
       "Index(['gender', 'SeniorCitizen', 'Partner', 'Dependents', 'tenure',\n",
       "       'PhoneService', 'MultipleLines', 'InternetService', 'OnlineSecurity',\n",
       "       'OnlineBackup', 'DeviceProtection', 'TechSupport', 'StreamingTV',\n",
       "       'StreamingMovies', 'Contract', 'PaperlessBilling', 'PaymentMethod',\n",
       "       'MonthlyCharges', 'TotalCharges', 'Churn'],\n",
       "      dtype='object')"
      ]
     },
     "execution_count": 12,
     "metadata": {},
     "output_type": "execute_result"
    }
   ],
   "source": [
    "# Make a new table containing only the columns name.\n",
    "data_col=data.columns\n",
    "data_col"
   ]
  },
  {
   "cell_type": "code",
   "execution_count": 13,
   "metadata": {},
   "outputs": [],
   "source": [
    "# Encode target labels with value between 0 and n_classes-1.\n",
    "le = preprocessing.LabelEncoder()\n",
    "\n",
    "# Fit label encoder and return encoded labels.\n",
    "# Basically turn the Yes and No into 0 and 1 for easy understanding.\n",
    "for i in data_col:\n",
    "    data[i]=le.fit_transform(data[i])"
   ]
  },
  {
   "cell_type": "code",
   "execution_count": 14,
   "metadata": {},
   "outputs": [
    {
     "data": {
      "text/html": [
       "<div>\n",
       "<style scoped>\n",
       "    .dataframe tbody tr th:only-of-type {\n",
       "        vertical-align: middle;\n",
       "    }\n",
       "\n",
       "    .dataframe tbody tr th {\n",
       "        vertical-align: top;\n",
       "    }\n",
       "\n",
       "    .dataframe thead th {\n",
       "        text-align: right;\n",
       "    }\n",
       "</style>\n",
       "<table border=\"1\" class=\"dataframe\">\n",
       "  <thead>\n",
       "    <tr style=\"text-align: right;\">\n",
       "      <th></th>\n",
       "      <th>gender</th>\n",
       "      <th>SeniorCitizen</th>\n",
       "      <th>Partner</th>\n",
       "      <th>Dependents</th>\n",
       "      <th>tenure</th>\n",
       "      <th>PhoneService</th>\n",
       "      <th>MultipleLines</th>\n",
       "      <th>InternetService</th>\n",
       "      <th>OnlineSecurity</th>\n",
       "      <th>OnlineBackup</th>\n",
       "      <th>DeviceProtection</th>\n",
       "      <th>TechSupport</th>\n",
       "      <th>StreamingTV</th>\n",
       "      <th>StreamingMovies</th>\n",
       "      <th>Contract</th>\n",
       "      <th>PaperlessBilling</th>\n",
       "      <th>PaymentMethod</th>\n",
       "      <th>MonthlyCharges</th>\n",
       "      <th>TotalCharges</th>\n",
       "      <th>Churn</th>\n",
       "    </tr>\n",
       "  </thead>\n",
       "  <tbody>\n",
       "    <tr>\n",
       "      <th>0</th>\n",
       "      <td>0</td>\n",
       "      <td>0</td>\n",
       "      <td>1</td>\n",
       "      <td>0</td>\n",
       "      <td>1</td>\n",
       "      <td>0</td>\n",
       "      <td>1</td>\n",
       "      <td>0</td>\n",
       "      <td>0</td>\n",
       "      <td>2</td>\n",
       "      <td>0</td>\n",
       "      <td>0</td>\n",
       "      <td>0</td>\n",
       "      <td>0</td>\n",
       "      <td>0</td>\n",
       "      <td>1</td>\n",
       "      <td>2</td>\n",
       "      <td>142</td>\n",
       "      <td>74</td>\n",
       "      <td>0</td>\n",
       "    </tr>\n",
       "    <tr>\n",
       "      <th>1</th>\n",
       "      <td>1</td>\n",
       "      <td>0</td>\n",
       "      <td>0</td>\n",
       "      <td>0</td>\n",
       "      <td>34</td>\n",
       "      <td>1</td>\n",
       "      <td>0</td>\n",
       "      <td>0</td>\n",
       "      <td>2</td>\n",
       "      <td>0</td>\n",
       "      <td>2</td>\n",
       "      <td>0</td>\n",
       "      <td>0</td>\n",
       "      <td>0</td>\n",
       "      <td>1</td>\n",
       "      <td>0</td>\n",
       "      <td>3</td>\n",
       "      <td>498</td>\n",
       "      <td>3624</td>\n",
       "      <td>0</td>\n",
       "    </tr>\n",
       "    <tr>\n",
       "      <th>2</th>\n",
       "      <td>1</td>\n",
       "      <td>0</td>\n",
       "      <td>0</td>\n",
       "      <td>0</td>\n",
       "      <td>2</td>\n",
       "      <td>1</td>\n",
       "      <td>0</td>\n",
       "      <td>0</td>\n",
       "      <td>2</td>\n",
       "      <td>2</td>\n",
       "      <td>0</td>\n",
       "      <td>0</td>\n",
       "      <td>0</td>\n",
       "      <td>0</td>\n",
       "      <td>0</td>\n",
       "      <td>1</td>\n",
       "      <td>3</td>\n",
       "      <td>436</td>\n",
       "      <td>536</td>\n",
       "      <td>1</td>\n",
       "    </tr>\n",
       "    <tr>\n",
       "      <th>3</th>\n",
       "      <td>1</td>\n",
       "      <td>0</td>\n",
       "      <td>0</td>\n",
       "      <td>0</td>\n",
       "      <td>45</td>\n",
       "      <td>0</td>\n",
       "      <td>1</td>\n",
       "      <td>0</td>\n",
       "      <td>2</td>\n",
       "      <td>0</td>\n",
       "      <td>2</td>\n",
       "      <td>2</td>\n",
       "      <td>0</td>\n",
       "      <td>0</td>\n",
       "      <td>1</td>\n",
       "      <td>0</td>\n",
       "      <td>0</td>\n",
       "      <td>266</td>\n",
       "      <td>3570</td>\n",
       "      <td>0</td>\n",
       "    </tr>\n",
       "    <tr>\n",
       "      <th>4</th>\n",
       "      <td>0</td>\n",
       "      <td>0</td>\n",
       "      <td>0</td>\n",
       "      <td>0</td>\n",
       "      <td>2</td>\n",
       "      <td>1</td>\n",
       "      <td>0</td>\n",
       "      <td>1</td>\n",
       "      <td>0</td>\n",
       "      <td>0</td>\n",
       "      <td>0</td>\n",
       "      <td>0</td>\n",
       "      <td>0</td>\n",
       "      <td>0</td>\n",
       "      <td>0</td>\n",
       "      <td>1</td>\n",
       "      <td>2</td>\n",
       "      <td>729</td>\n",
       "      <td>674</td>\n",
       "      <td>1</td>\n",
       "    </tr>\n",
       "  </tbody>\n",
       "</table>\n",
       "</div>"
      ],
      "text/plain": [
       "   gender  SeniorCitizen  Partner  Dependents  tenure  PhoneService  \\\n",
       "0       0              0        1           0       1             0   \n",
       "1       1              0        0           0      34             1   \n",
       "2       1              0        0           0       2             1   \n",
       "3       1              0        0           0      45             0   \n",
       "4       0              0        0           0       2             1   \n",
       "\n",
       "   MultipleLines  InternetService  OnlineSecurity  OnlineBackup  \\\n",
       "0              1                0               0             2   \n",
       "1              0                0               2             0   \n",
       "2              0                0               2             2   \n",
       "3              1                0               2             0   \n",
       "4              0                1               0             0   \n",
       "\n",
       "   DeviceProtection  TechSupport  StreamingTV  StreamingMovies  Contract  \\\n",
       "0                 0            0            0                0         0   \n",
       "1                 2            0            0                0         1   \n",
       "2                 0            0            0                0         0   \n",
       "3                 2            2            0                0         1   \n",
       "4                 0            0            0                0         0   \n",
       "\n",
       "   PaperlessBilling  PaymentMethod  MonthlyCharges  TotalCharges  Churn  \n",
       "0                 1              2             142            74      0  \n",
       "1                 0              3             498          3624      0  \n",
       "2                 1              3             436           536      1  \n",
       "3                 0              0             266          3570      0  \n",
       "4                 1              2             729           674      1  "
      ]
     },
     "execution_count": 14,
     "metadata": {},
     "output_type": "execute_result"
    }
   ],
   "source": [
    "data.head()"
   ]
  },
  {
   "cell_type": "code",
   "execution_count": 15,
   "metadata": {},
   "outputs": [],
   "source": [
    "# The Churn column is set as a new table y. The Dependent Variables.\n",
    "Y=data.iloc[:,-1]\n",
    "\n",
    "# All other column except Churn is set as table x. The Independent Variables\n",
    "X=data.iloc[:,0:-1]"
   ]
  },
  {
   "cell_type": "code",
   "execution_count": 16,
   "metadata": {},
   "outputs": [
    {
     "data": {
      "text/plain": [
       "array([[   1,    0,  142,   74],\n",
       "       [  34,    1,  498, 3624],\n",
       "       [   2,    0,  436,  536],\n",
       "       ...,\n",
       "       [  11,    0,  137, 1265],\n",
       "       [   4,    0,  795, 1157],\n",
       "       [  66,    2, 1388, 6151]], dtype=int64)"
      ]
     },
     "execution_count": 16,
     "metadata": {},
     "output_type": "execute_result"
    }
   ],
   "source": [
    "# SelectKBest select features according to the k highest scores.\n",
    "from sklearn.feature_selection import SelectKBest\n",
    "\n",
    "\n",
    "# Chi-squared is used because the features are non-negative.\n",
    "test = SelectKBest(score_func=chi2, k=4)\n",
    "# Run score function on (X, y) and get the appropriate features.\n",
    "fit = test.fit(X, Y)\n",
    "\n",
    "# Reduce X to the selected features.\n",
    "features = fit.transform(X)\n",
    "features"
   ]
  },
  {
   "cell_type": "markdown",
   "metadata": {},
   "source": [
    "#### Top Features are:\n",
    "Tenure, Contract, Monthly Charges and Total Charges"
   ]
  },
  {
   "cell_type": "code",
   "execution_count": 17,
   "metadata": {},
   "outputs": [
    {
     "data": {
      "text/plain": [
       "<matplotlib.axes._subplots.AxesSubplot at 0x1bba6675fd0>"
      ]
     },
     "execution_count": 17,
     "metadata": {},
     "output_type": "execute_result"
    },
    {
     "data": {
      "image/png": "[encoded data removed]",
      "text/plain": [
       "<Figure size 720x432 with 2 Axes>"
      ]
     },
     "metadata": {
      "needs_background": "light"
     },
     "output_type": "display_data"
    }
   ],
   "source": [
    "# Plot a correlation Matrix between top 4 features.\n",
    "#The correlation matrix can be used to estimate the linear historical \n",
    "# relationship between the returns of multiple assets.\n",
    "data1=data[['tenure','Contract','MonthlyCharges','TotalCharges']]\n",
    "plt.subplots(figsize=(10, 6))\n",
    "plt.title('Coorelation Matrix', size=30)\n",
    "sns.heatmap(data1.corr(),annot=True,linewidths=0.5)"
   ]
  },
  {
   "cell_type": "code",
   "execution_count": 18,
   "metadata": {},
   "outputs": [
    {
     "name": "stdout",
     "output_type": "stream",
     "text": [
      "[[   1    0  142   74]\n",
      " [  34    1  498 3624]\n",
      " [   2    0  436  536]\n",
      " [  45    1  266 3570]\n",
      " [   2    0  729  674]]\n"
     ]
    }
   ],
   "source": [
    "# Print top 5 arrays.\n",
    "print(features[0:5,:])"
   ]
  },
  {
   "cell_type": "code",
   "execution_count": 19,
   "metadata": {
    "scrolled": true
   },
   "outputs": [
    {
     "name": "stdout",
     "output_type": "stream",
     "text": [
      "[2.59e-01 1.34e+02 8.24e+01 1.33e+02 1.63e+04 9.73e-02 9.75e+00 9.82e+00\n",
      " 5.52e+02 2.30e+02 1.91e+02 5.23e+02 7.49e+00 8.24e+00 1.12e+03 1.06e+02\n",
      " 5.85e+01 7.95e+04 4.57e+05]\n"
     ]
    }
   ],
   "source": [
    "# It determine the way floating point numbers are displayed.\n",
    "np.set_printoptions(precision=2) \n",
    "\n",
    "# It prints the score of each columns\n",
    "# Here we can see the best features are Tenure, Contract, Monthly Charges \n",
    "# and Total Charges\n",
    "print(fit.scores_)"
   ]
  },
  {
   "cell_type": "markdown",
   "metadata": {},
   "source": [
    "## Implement Machine Learning Models"
   ]
  },
  {
   "cell_type": "markdown",
   "metadata": {},
   "source": [
    "### Applying Models on Unbalanced Class Data"
   ]
  },
  {
   "cell_type": "code",
   "execution_count": 20,
   "metadata": {},
   "outputs": [
    {
     "name": "stdout",
     "output_type": "stream",
     "text": [
      "Logistic:\n",
      "Avg F1-Score 0.7930706550626183\n",
      "Max F1-Score 0.8165782210473341\n",
      "Min F1-Score 0.7730496819789623\n",
      "Avg Accuracy 0.8012241678498185\n",
      "Max Accuracy 0.8206341694273545\n",
      "Min Accuracy 0.7841930903928065\n"
     ]
    }
   ],
   "source": [
    "#LOGISTIC\n",
    "f1 = []\n",
    "acc = []\n",
    "n = 150\n",
    "print(\"Logistic:\")\n",
    "\n",
    "# We use Logistic Regression to fit the data(X_train and Y_train) and use the \n",
    "# prediction on X_test and then find the F1 score and Accuracy with respect to\n",
    "# Y_test.\n",
    "for i in range(n):\n",
    "    X_train, X_test, Y_train, Y_test = train_test_split(X, Y, test_size=0.3)\n",
    "    lr = LogisticRegression(random_state=0, solver='liblinear')\n",
    "    lr.fit(X_train, Y_train)\n",
    "    ypred=lr.predict(X_test)\n",
    "    f1.append(f1_score(Y_test, ypred, average='weighted'))\n",
    "    acc.append(accuracy_score(Y_test, ypred))\n",
    "    \n",
    "# Print the min,max and avg F1-score and Accuracy.    \n",
    "print(\"Avg F1-Score\",np.mean(f1))\n",
    "print(\"Max F1-Score\",np.max(f1))\n",
    "print(\"Min F1-Score\",np.min(f1))\n",
    "print(\"Avg Accuracy\",np.mean(acc))\n",
    "print(\"Max Accuracy\",np.max(acc))\n",
    "print(\"Min Accuracy\",np.min(acc))"
   ]
  },
  {
   "cell_type": "code",
   "execution_count": 21,
   "metadata": {
    "scrolled": true
   },
   "outputs": [
    {
     "name": "stdout",
     "output_type": "stream",
     "text": [
      "Random Forest:\n",
      "Avg F1-Score 0.7898601395940449\n",
      "Max F1-Score 0.8165782210473341\n",
      "Min F1-Score 0.7517369752810782\n",
      "Avg Accuracy 0.7983879626510262\n",
      "Max Accuracy 0.8206341694273545\n",
      "Min Accuracy 0.765791341376863\n"
     ]
    }
   ],
   "source": [
    "#RANDOM FOREST\n",
    "n = 50\n",
    "print(\"Random Forest:\")\n",
    "\n",
    "# We use Random Forest to fit the data(X_train and Y_train) and use the \n",
    "# prediction on X_test and then find the F1 score and Accuracy with respect to\n",
    "# Y_test.\n",
    "for i in range(n):\n",
    "    X_train, X_test, Y_train, Y_test = train_test_split(X, Y, test_size=0.2)\n",
    "    rf = RandomForestClassifier(n_estimators = 100, random_state = 0) \n",
    "    rf.fit(X_train, Y_train)\n",
    "    ypred=rf.predict(X_test)\n",
    "    f1.append(f1_score(Y_test, ypred, average='weighted'))\n",
    "    acc.append(accuracy_score(Y_test, ypred))\n",
    "\n",
    "# Print the min,max and avg F1-score and Accuracy. \n",
    "print(\"Avg F1-Score\",np.mean(f1))\n",
    "print(\"Max F1-Score\",np.max(f1))\n",
    "print(\"Min F1-Score\",np.min(f1))\n",
    "print(\"Avg Accuracy\",np.mean(acc))\n",
    "print(\"Max Accuracy\",np.max(acc))\n",
    "print(\"Min Accuracy\",np.min(acc))"
   ]
  },
  {
   "cell_type": "markdown",
   "metadata": {},
   "source": [
    "###  Our data is unbalanced hence balancing the data using Smote"
   ]
  },
  {
   "cell_type": "code",
   "execution_count": 22,
   "metadata": {},
   "outputs": [
    {
     "name": "stdout",
     "output_type": "stream",
     "text": [
      "Number transactions X_train dataset:  (4930, 19)\n",
      "Number transactions Y_train dataset:  (4930,)\n",
      "Number transactions X_test dataset:  (2113, 19)\n",
      "Number transactions Y_test dataset:  (2113,)\n"
     ]
    }
   ],
   "source": [
    "# Splitting of the data in two part, Training and Testing Dataset.\n",
    "from sklearn.model_selection import train_test_split\n",
    "X_train, X_test, Y_train, Y_test = train_test_split(X, Y, test_size=0.3, random_state=0)\n",
    "\n",
    "# Displaying the dimension of Training and Testing data containing X that is \n",
    "# Features and Y which is Label.\n",
    "print(\"Number transactions X_train dataset: \", X_train.shape)\n",
    "print(\"Number transactions Y_train dataset: \", Y_train.shape)\n",
    "print(\"Number transactions X_test dataset: \", X_test.shape)\n",
    "print(\"Number transactions Y_test dataset: \", Y_test.shape)"
   ]
  },
  {
   "cell_type": "code",
   "execution_count": 23,
   "metadata": {},
   "outputs": [
    {
     "name": "stdout",
     "output_type": "stream",
     "text": [
      "Before OverSampling, counts of label '1': 1316\n",
      "Before OverSampling, counts of label '0': 3614 \n",
      "\n",
      "After OverSampling, the shape of train_X: (7228, 19)\n",
      "After OverSampling, the shape of train_y: (7228,) \n",
      "\n",
      "After OverSampling, counts of label '1': 3614\n",
      "After OverSampling, counts of label '0': 3614\n"
     ]
    }
   ],
   "source": [
    "# Calling the Synthetic Minority Oversampling Technique Module.\n",
    "from imblearn.over_sampling import SMOTE\n",
    "\n",
    "# Finding the current balance of the Y_train.\n",
    "print(\"Before OverSampling, counts of label '1': {}\".format(sum(Y_train==1)))\n",
    "print(\"Before OverSampling, counts of label '0': {} \\n\".format(sum(Y_train==0)))\n",
    "\n",
    "# Balancing Y_train, so that the number of churn is equal to not churn.\n",
    "sm = SMOTE(random_state=2)\n",
    "X_train_res, Y_train_res = sm.fit_sample(X_train, Y_train.ravel())\n",
    "\n",
    "# Printing the new DataFrame after OverSampling.\n",
    "print('After OverSampling, the shape of train_X: {}'.format(X_train_res.shape))\n",
    "print('After OverSampling, the shape of train_y: {} \\n'.format(Y_train_res.shape))\n",
    "\n",
    "# Checking the Blance of the data after OverSampling\n",
    "print(\"After OverSampling, counts of label '1': {}\".format(sum(Y_train_res==1)))\n",
    "print(\"After OverSampling, counts of label '0': {}\".format(sum(Y_train_res==0)))"
   ]
  },
  {
   "cell_type": "code",
   "execution_count": 24,
   "metadata": {
    "scrolled": true
   },
   "outputs": [
    {
     "name": "stdout",
     "output_type": "stream",
     "text": [
      "Logistic:\n",
      "Avg F1-Score 0.7808878534690102\n",
      "Max F1-Score 0.8165782210473341\n",
      "Min F1-Score 0.7516848867012283\n",
      "Avg Accuracy 0.7815654830860979\n",
      "Max Accuracy 0.8206341694273545\n",
      "Min Accuracy 0.7401798390913393\n"
     ]
    }
   ],
   "source": [
    "#LOGISTIC\n",
    "n = 150\n",
    "print(\"Logistic:\")\n",
    "\n",
    "# We use Logistic Regression to fit the data(X_train_res and Y_train_res) and \n",
    "# use the prediction on X_test and then find the F1 score and Accuracy with \n",
    "# respect to Y_test.\n",
    "for i in range(n):\n",
    "    X_train, X_test, Y_train, Y_test = train_test_split(X, Y, test_size=0.3)\n",
    "    lr = LogisticRegression(random_state=0, solver='liblinear')\n",
    "    # Using the Balanced training set X_train_res and Y_train_res to fit the \n",
    "    # model.\n",
    "    lr.fit(X_train_res, Y_train_res)\n",
    "    y5pred=lr.predict(X_test)\n",
    "    f1.append(f1_score(Y_test, y5pred, average='weighted'))\n",
    "    acc.append(accuracy_score(Y_test, y5pred))\n",
    "    \n",
    "# Print the min,max and avg F1-score and Accuracy.     \n",
    "print(\"Avg F1-Score\",np.mean(f1))\n",
    "print(\"Max F1-Score\",np.max(f1))\n",
    "print(\"Min F1-Score\",np.min(f1))\n",
    "print(\"Avg Accuracy\",np.mean(acc))\n",
    "print(\"Max Accuracy\",np.max(acc))\n",
    "print(\"Min Accuracy\",np.min(acc))"
   ]
  },
  {
   "cell_type": "code",
   "execution_count": 25,
   "metadata": {},
   "outputs": [
    {
     "name": "stdout",
     "output_type": "stream",
     "text": [
      "Naive Bayes:\n",
      "Avg F1-Score 0.7757575614281493\n",
      "Max F1-Score 0.8165782210473341\n",
      "Min F1-Score 0.7093899558895725\n",
      "Avg Accuracy 0.7746309758408607\n",
      "Max Accuracy 0.8206341694273545\n",
      "Min Accuracy 0.6926898509581263\n"
     ]
    }
   ],
   "source": [
    "#NAIVE BAYES\n",
    "n = 50\n",
    "print(\"Naive Bayes:\")\n",
    "\n",
    "# We use Naives Bayes to fit the data(X_train_res and Y_train_res) and use \n",
    "# the prediction on X_test and then find the F1 score and Accuracy with \n",
    "# respect to Y_test.\n",
    "for i in range(n):\n",
    "    X_train, X_test, Y_train, Y_test = train_test_split(X, Y, test_size=0.2)\n",
    "    nb = GaussianNB()\n",
    "    # Using the Balanced training set X_train_res and Y_train_res to fit the \n",
    "    # model.\n",
    "    nb.fit(X_train_res, Y_train_res)\n",
    "    y2pred = nb.predict(X_test)\n",
    "    f1.append(f1_score(Y_test, y2pred, average='weighted'))\n",
    "    acc.append(accuracy_score(Y_test, y2pred))\n",
    "    \n",
    "# Print the min,max and avg F1-score and Accuracy. \n",
    "print(\"Avg F1-Score\",np.mean(f1))\n",
    "print(\"Max F1-Score\",np.max(f1))\n",
    "print(\"Min F1-Score\",np.min(f1))\n",
    "print(\"Avg Accuracy\",np.mean(acc))\n",
    "print(\"Max Accuracy\",np.max(acc))\n",
    "print(\"Min Accuracy\",np.min(acc))"
   ]
  },
  {
   "cell_type": "code",
   "execution_count": 26,
   "metadata": {},
   "outputs": [
    {
     "name": "stdout",
     "output_type": "stream",
     "text": [
      "MLP:\n",
      "Avg F1-Score 0.758392678122606\n",
      "Max F1-Score 0.8165782210473341\n",
      "Min F1-Score 0.5892264075955997\n",
      "Avg Accuracy 0.7699519249016782\n",
      "Max Accuracy 0.8206341694273545\n",
      "Min Accuracy 0.6926898509581263\n"
     ]
    }
   ],
   "source": [
    "#MULTI LAYER PERCEPTION\n",
    "n = 50\n",
    "print(\"MLP:\")\n",
    "\n",
    "# We use Multi Layer Perception to fit the data(X_train_res and Y_train_res) \n",
    "# and use the prediction on X_test and then find the F1 score and Accuracy \n",
    "# with respect to Y_test.\n",
    "for i in range(n):\n",
    "    X_train, X_test, Y_train, Y_test = train_test_split(X, Y, test_size=0.2)\n",
    "    clf = MLPClassifier(solver='sgd', alpha=0.00001, hidden_layer_sizes=(5, 2), random_state=1, max_iter=1000)\n",
    "    # Using the Balanced training set X_train_res and Y_train_res to fit the \n",
    "    # model.\n",
    "    clf.fit(X_train_res, Y_train_res)\n",
    "    y3pred = clf.predict(X_test)\n",
    "    f1.append(f1_score(Y_test, y3pred, average='weighted'))\n",
    "    acc.append(accuracy_score(Y_test, y3pred))\n",
    "    \n",
    "# Print the min,max and avg F1-score and Accuracy. \n",
    "print(\"Avg F1-Score\",np.mean(f1))\n",
    "print(\"Max F1-Score\",np.max(f1))\n",
    "print(\"Min F1-Score\",np.min(f1))\n",
    "print(\"Avg Accuracy\",np.mean(acc))\n",
    "print(\"Max Accuracy\",np.max(acc))\n",
    "print(\"Min Accuracy\",np.min(acc))"
   ]
  },
  {
   "cell_type": "code",
   "execution_count": 27,
   "metadata": {},
   "outputs": [
    {
     "name": "stdout",
     "output_type": "stream",
     "text": [
      "Random Forest:\n",
      "Avg F1-Score 0.9303943893606271\n",
      "Max F1-Score 0.942538333466262\n",
      "Min F1-Score 0.9145900345978697\n",
      "Avg Accuracy 0.9302484031227821\n",
      "Max Accuracy 0.9425124201561391\n",
      "Min Accuracy 0.9141234918381831\n"
     ]
    }
   ],
   "source": [
    "# NOW APPLYING RANDOM FOREST TO BALENCED CLASS DATA.\n",
    "f1 = []\n",
    "acc = []\n",
    "n = 50\n",
    "print(\"Random Forest:\")\n",
    "\n",
    "# We use Random Forest to fit the data(X_train_res and Y_train_res) and use \n",
    "# the prediction on X_test and then find the F1 score and Accuracy with \n",
    "# respect to Y_test.\n",
    "for i in range(n):\n",
    "    X_train, X_test, Y_train, Y_test = train_test_split(X, Y, test_size=0.2)\n",
    "    rf = RandomForestClassifier(n_estimators = 100, random_state = 0) \n",
    "    # Using the Balanced training set X_train_res and Y_train_res to fit the \n",
    "    # model.\n",
    "    rf.fit(X_train_res, Y_train_res)\n",
    "    ypred=rf.predict(X_test)\n",
    "    f1.append(f1_score(Y_test, ypred, average='weighted'))\n",
    "    acc.append(accuracy_score(Y_test, ypred))\n",
    "    \n",
    "# Print the min,max and avg F1-score and Accuracy. \n",
    "print(\"Avg F1-Score\",np.mean(f1))\n",
    "print(\"Max F1-Score\",np.max(f1))\n",
    "print(\"Min F1-Score\",np.min(f1))\n",
    "print(\"Avg Accuracy\",np.mean(acc))\n",
    "print(\"Max Accuracy\",np.max(acc))\n",
    "print(\"Min Accuracy\",np.min(acc))"
   ]
  },
  {
   "cell_type": "markdown",
   "metadata": {},
   "source": [
    "## Model Evaluation"
   ]
  },
  {
   "cell_type": "code",
   "execution_count": 28,
   "metadata": {},
   "outputs": [
    {
     "name": "stdout",
     "output_type": "stream",
     "text": [
      "accuracy:   93.045\n",
      "[[988  52]\n",
      " [ 46 323]]\n"
     ]
    },
    {
     "data": {
      "text/plain": [
       "Text(26.5, 0.5, 'true values')"
      ]
     },
     "execution_count": 28,
     "metadata": {},
     "output_type": "execute_result"
    },
    {
     "data": {
      "image/png": "[encoded data removed]",
      "text/plain": [
       "<Figure size 432x288 with 2 Axes>"
      ]
     },
     "metadata": {},
     "output_type": "display_data"
    }
   ],
   "source": [
    "#RANDOM FOREST\n",
    "\n",
    "#We find the accuracy of the Random Forest Model.\n",
    "score = metrics.accuracy_score(Y_test, ypred)\n",
    "print(\"accuracy:   %0.3f\" % (score*100))\n",
    "\n",
    "# Confusion matrix is used to evaluate the accuracy of a classification.\n",
    "cm = metrics.confusion_matrix(Y_test, ypred, labels=[0,1])\n",
    "print(cm)\n",
    "\n",
    "# Plotting the Heatmap of the Confusion Matrix.\n",
    "sns.set(font_scale=1.4)\n",
    "sns.heatmap(cm,annot=True,annot_kws={'size':16})\n",
    "\n",
    "#sns.set_axis_labels('true values','predicted')\n",
    "plt.xlabel(\"predicted\")\n",
    "plt.ylabel(\"true values\")"
   ]
  },
  {
   "cell_type": "code",
   "execution_count": 29,
   "metadata": {},
   "outputs": [
    {
     "name": "stdout",
     "output_type": "stream",
     "text": [
      "AUC: 0.913\n"
     ]
    }
   ],
   "source": [
    "# Computing the Area Under the Receiver Operating Characteristic Curve \n",
    "# (ROC AUC) from prediction scores.\n",
    "from sklearn.metrics import roc_auc_score\n",
    "\n",
    "# The score is checked between Y_test and Y predicted.\n",
    "auc = roc_auc_score(Y_test,ypred)\n",
    "print('AUC: %.3f' % auc)"
   ]
  },
  {
   "cell_type": "code",
   "execution_count": 30,
   "metadata": {},
   "outputs": [
    {
     "data": {
      "image/png": "[encoded data removed]",
      "text/plain": [
       "<Figure size 432x288 with 1 Axes>"
      ]
     },
     "metadata": {},
     "output_type": "display_data"
    }
   ],
   "source": [
    "# Computing the Receiver operating characteristic (ROC)\n",
    "from sklearn.metrics import roc_curve\n",
    "fpr, tpr, thresholds = roc_curve(Y_test, ypred)\n",
    "\n",
    "# plot no skill\n",
    "plt.plot([0, 1], [0, 1], linestyle='--')\n",
    "\n",
    "# plot the roc curve for the model\n",
    "plt.plot(fpr, tpr, marker='.')\n",
    "\n",
    "# show the plot\n",
    "plt.show()"
   ]
  },
  {
   "cell_type": "markdown",
   "metadata": {},
   "source": [
    "## Final Conclusions"
   ]
  },
  {
   "cell_type": "markdown",
   "metadata": {},
   "source": [
    "- I have used 4 classifiers for classification- Random Forest, Logistic Regression, Multi Layer Perception and Naive Bayes.\n",
    "- Our data consist of unbalanced class.\n",
    "- 79.83% accuracy score without balancing the data using Random Forest.\n",
    "- After balancing the class using SMOTE we get much better results.\n",
    "- Random Forest out performs all the models with 93.02% Accuracy & 0.913 AUC score.\n",
    "- Accuracy can be further increased using parameter tuning."
   ]
  }
 ],
 "metadata": {
  "kernelspec": {
   "display_name": "Python 3",
   "language": "python",
   "name": "python3"
  },
  "language_info": {
   "codemirror_mode": {
    "name": "ipython",
    "version": 3
   },
   "file_extension": ".py",
   "mimetype": "text/x-python",
   "name": "python",
   "nbconvert_exporter": "python",
   "pygments_lexer": "ipython3",
   "version": "3.8.3"
  }
 },
 "nbformat": 4,
 "nbformat_minor": 2
}
